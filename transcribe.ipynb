{
 "cells": [
  {
   "cell_type": "code",
   "execution_count": 5,
   "id": "4f959d77",
   "metadata": {},
   "outputs": [
    {
     "name": "stdout",
     "output_type": "stream",
     "text": [
      "Collecting faster-whisper\n",
      "  Downloading faster_whisper-1.1.1-py3-none-any.whl (1.1 MB)\n",
      "Collecting av>=11\n",
      "  Downloading av-14.2.0-cp39-cp39-win_amd64.whl (30.9 MB)\n",
      "Requirement already satisfied: tqdm in c:\\users\\mohit\\anaconda3\\lib\\site-packages (from faster-whisper) (4.67.1)\n",
      "Collecting ctranslate2<5,>=4.0\n",
      "  Downloading ctranslate2-4.6.0-cp39-cp39-win_amd64.whl (19.5 MB)\n",
      "Collecting huggingface-hub>=0.13\n",
      "  Using cached huggingface_hub-0.30.2-py3-none-any.whl (481 kB)\n",
      "Collecting tokenizers<1,>=0.13\n",
      "  Using cached tokenizers-0.21.1-cp39-abi3-win_amd64.whl (2.4 MB)\n",
      "Collecting onnxruntime<2,>=1.14\n",
      "  Downloading onnxruntime-1.19.2-cp39-cp39-win_amd64.whl (11.1 MB)\n",
      "Requirement already satisfied: numpy in c:\\users\\mohit\\anaconda3\\lib\\site-packages (from ctranslate2<5,>=4.0->faster-whisper) (1.21.6)\n",
      "Requirement already satisfied: pyyaml<7,>=5.3 in c:\\users\\mohit\\anaconda3\\lib\\site-packages (from ctranslate2<5,>=4.0->faster-whisper) (6.0)\n",
      "Requirement already satisfied: setuptools in c:\\users\\mohit\\anaconda3\\lib\\site-packages (from ctranslate2<5,>=4.0->faster-whisper) (61.2.0)\n",
      "Requirement already satisfied: packaging>=20.9 in c:\\users\\mohit\\anaconda3\\lib\\site-packages (from huggingface-hub>=0.13->faster-whisper) (21.3)\n",
      "Requirement already satisfied: filelock in c:\\users\\mohit\\anaconda3\\lib\\site-packages (from huggingface-hub>=0.13->faster-whisper) (3.6.0)\n",
      "Requirement already satisfied: fsspec>=2023.5.0 in c:\\users\\mohit\\anaconda3\\lib\\site-packages (from huggingface-hub>=0.13->faster-whisper) (2025.3.0)\n",
      "Requirement already satisfied: requests in c:\\users\\mohit\\anaconda3\\lib\\site-packages (from huggingface-hub>=0.13->faster-whisper) (2.32.3)\n",
      "Requirement already satisfied: typing-extensions>=3.7.4.3 in c:\\users\\mohit\\anaconda3\\lib\\site-packages (from huggingface-hub>=0.13->faster-whisper) (4.13.2)\n",
      "Collecting coloredlogs\n",
      "  Downloading coloredlogs-15.0.1-py2.py3-none-any.whl (46 kB)\n",
      "Collecting flatbuffers\n",
      "  Downloading flatbuffers-25.2.10-py2.py3-none-any.whl (30 kB)\n",
      "Requirement already satisfied: protobuf in c:\\users\\mohit\\anaconda3\\lib\\site-packages (from onnxruntime<2,>=1.14->faster-whisper) (3.19.1)\n",
      "Requirement already satisfied: sympy in c:\\users\\mohit\\anaconda3\\lib\\site-packages (from onnxruntime<2,>=1.14->faster-whisper) (1.14.0)\n",
      "Requirement already satisfied: pyparsing!=3.0.5,>=2.0.2 in c:\\users\\mohit\\anaconda3\\lib\\site-packages (from packaging>=20.9->huggingface-hub>=0.13->faster-whisper) (3.0.4)\n",
      "Requirement already satisfied: colorama in c:\\users\\mohit\\anaconda3\\lib\\site-packages (from tqdm->faster-whisper) (0.4.4)\n",
      "Collecting humanfriendly>=9.1\n",
      "  Downloading humanfriendly-10.0-py2.py3-none-any.whl (86 kB)\n",
      "Collecting pyreadline3\n",
      "  Downloading pyreadline3-3.5.4-py3-none-any.whl (83 kB)\n",
      "Requirement already satisfied: charset-normalizer<4,>=2 in c:\\users\\mohit\\anaconda3\\lib\\site-packages (from requests->huggingface-hub>=0.13->faster-whisper) (2.0.4)\n",
      "Requirement already satisfied: urllib3<3,>=1.21.1 in c:\\users\\mohit\\anaconda3\\lib\\site-packages (from requests->huggingface-hub>=0.13->faster-whisper) (1.26.9)\n",
      "Requirement already satisfied: idna<4,>=2.5 in c:\\users\\mohit\\anaconda3\\lib\\site-packages (from requests->huggingface-hub>=0.13->faster-whisper) (3.3)\n",
      "Requirement already satisfied: certifi>=2017.4.17 in c:\\users\\mohit\\anaconda3\\lib\\site-packages (from requests->huggingface-hub>=0.13->faster-whisper) (2021.10.8)\n",
      "Requirement already satisfied: mpmath<1.4,>=1.1.0 in c:\\users\\mohit\\anaconda3\\lib\\site-packages (from sympy->onnxruntime<2,>=1.14->faster-whisper) (1.2.1)\n",
      "Installing collected packages: pyreadline3, humanfriendly, huggingface-hub, flatbuffers, coloredlogs, tokenizers, onnxruntime, ctranslate2, av, faster-whisper\n",
      "Successfully installed av-14.2.0 coloredlogs-15.0.1 ctranslate2-4.6.0 faster-whisper-1.1.1 flatbuffers-25.2.10 huggingface-hub-0.30.2 humanfriendly-10.0 onnxruntime-1.19.2 pyreadline3-3.5.4 tokenizers-0.21.1\n",
      "Collecting faster-whisper\n",
      "  Using cached faster_whisper-1.1.1-py3-none-any.whl (1.1 MB)\n",
      "Collecting ctranslate2<5,>=4.0\n",
      "  Using cached ctranslate2-4.6.0-cp39-cp39-win_amd64.whl (19.5 MB)\n",
      "Collecting av>=11\n",
      "  Using cached av-14.2.0-cp39-cp39-win_amd64.whl (30.9 MB)\n",
      "Collecting onnxruntime<2,>=1.14\n",
      "  Using cached onnxruntime-1.19.2-cp39-cp39-win_amd64.whl (11.1 MB)\n",
      "Collecting huggingface-hub>=0.13\n",
      "  Using cached huggingface_hub-0.30.2-py3-none-any.whl (481 kB)\n",
      "Requirement already satisfied: tqdm in c:\\users\\mohit\\anaconda3\\lib\\site-packages (from faster-whisper) (4.67.1)\n",
      "Collecting tokenizers<1,>=0.13\n",
      "  Using cached tokenizers-0.21.1-cp39-abi3-win_amd64.whl (2.4 MB)\n",
      "Requirement already satisfied: setuptools in c:\\users\\mohit\\anaconda3\\lib\\site-packages (from ctranslate2<5,>=4.0->faster-whisper) (61.2.0)\n",
      "Requirement already satisfied: numpy in c:\\users\\mohit\\anaconda3\\lib\\site-packages (from ctranslate2<5,>=4.0->faster-whisper) (1.21.6)\n",
      "Requirement already satisfied: pyyaml<7,>=5.3 in c:\\users\\mohit\\anaconda3\\lib\\site-packages (from ctranslate2<5,>=4.0->faster-whisper) (6.0)\n",
      "Requirement already satisfied: filelock in c:\\users\\mohit\\anaconda3\\lib\\site-packages (from huggingface-hub>=0.13->faster-whisper) (3.6.0)\n",
      "Requirement already satisfied: typing-extensions>=3.7.4.3 in c:\\users\\mohit\\anaconda3\\lib\\site-packages (from huggingface-hub>=0.13->faster-whisper) (4.13.2)\n",
      "Requirement already satisfied: fsspec>=2023.5.0 in c:\\users\\mohit\\anaconda3\\lib\\site-packages (from huggingface-hub>=0.13->faster-whisper) (2025.3.0)\n",
      "Requirement already satisfied: packaging>=20.9 in c:\\users\\mohit\\anaconda3\\lib\\site-packages (from huggingface-hub>=0.13->faster-whisper) (21.3)\n",
      "Requirement already satisfied: requests in c:\\users\\mohit\\anaconda3\\lib\\site-packages (from huggingface-hub>=0.13->faster-whisper) (2.32.3)\n",
      "Requirement already satisfied: sympy in c:\\users\\mohit\\anaconda3\\lib\\site-packages (from onnxruntime<2,>=1.14->faster-whisper) (1.14.0)\n",
      "Requirement already satisfied: protobuf in c:\\users\\mohit\\anaconda3\\lib\\site-packages (from onnxruntime<2,>=1.14->faster-whisper) (3.19.1)\n",
      "Collecting coloredlogs\n",
      "  Using cached coloredlogs-15.0.1-py2.py3-none-any.whl (46 kB)\n",
      "Collecting flatbuffers\n",
      "  Using cached flatbuffers-25.2.10-py2.py3-none-any.whl (30 kB)\n",
      "Requirement already satisfied: pyparsing!=3.0.5,>=2.0.2 in c:\\users\\mohit\\anaconda3\\lib\\site-packages (from packaging>=20.9->huggingface-hub>=0.13->faster-whisper) (3.0.4)\n",
      "Requirement already satisfied: colorama in c:\\users\\mohit\\anaconda3\\lib\\site-packages (from tqdm->faster-whisper) (0.4.4)\n",
      "Collecting humanfriendly>=9.1\n",
      "  Using cached humanfriendly-10.0-py2.py3-none-any.whl (86 kB)\n",
      "Collecting pyreadline3\n",
      "  Using cached pyreadline3-3.5.4-py3-none-any.whl (83 kB)\n",
      "Requirement already satisfied: urllib3<3,>=1.21.1 in c:\\users\\mohit\\anaconda3\\lib\\site-packages (from requests->huggingface-hub>=0.13->faster-whisper) (1.26.9)\n",
      "Requirement already satisfied: charset-normalizer<4,>=2 in c:\\users\\mohit\\anaconda3\\lib\\site-packages (from requests->huggingface-hub>=0.13->faster-whisper) (2.0.4)\n",
      "Requirement already satisfied: idna<4,>=2.5 in c:\\users\\mohit\\anaconda3\\lib\\site-packages (from requests->huggingface-hub>=0.13->faster-whisper) (3.3)\n",
      "Requirement already satisfied: certifi>=2017.4.17 in c:\\users\\mohit\\anaconda3\\lib\\site-packages (from requests->huggingface-hub>=0.13->faster-whisper) (2021.10.8)\n",
      "Requirement already satisfied: mpmath<1.4,>=1.1.0 in c:\\users\\mohit\\anaconda3\\lib\\site-packages (from sympy->onnxruntime<2,>=1.14->faster-whisper) (1.2.1)\n",
      "Installing collected packages: pyreadline3, humanfriendly, huggingface-hub, flatbuffers, coloredlogs, tokenizers, onnxruntime, ctranslate2, av, faster-whisper\n",
      "Successfully installed av-14.2.0 coloredlogs-15.0.1 ctranslate2-4.6.0 faster-whisper-1.1.1 flatbuffers-25.2.10 huggingface-hub-0.30.2 humanfriendly-10.0 onnxruntime-1.19.2 pyreadline3-3.5.4 tokenizers-0.21.1\n"
     ]
    }
   ],
   "source": [
    "!pip install faster-whisper\n"
   ]
  },
  {
   "cell_type": "code",
   "execution_count": 6,
   "id": "35b6a9cd",
   "metadata": {},
   "outputs": [
    {
     "name": "stdout",
     "output_type": "stream",
     "text": [
      "ffmpeg version 7.1.1-essentials_build-www.gyan.dev Copyright (c) 2000-2025 the FFmpeg developers\n",
      "built with gcc 14.2.0 (Rev1, Built by MSYS2 project)\n",
      "configuration: --enable-gpl --enable-version3 --enable-static --disable-w32threads --disable-autodetect --enable-fontconfig --enable-iconv --enable-gnutls --enable-libxml2 --enable-gmp --enable-bzlib --enable-lzma --enable-zlib --enable-libsrt --enable-libssh --enable-libzmq --enable-avisynth --enable-sdl2 --enable-libwebp --enable-libx264 --enable-libx265 --enable-libxvid --enable-libaom --enable-libopenjpeg --enable-libvpx --enable-mediafoundation --enable-libass --enable-libfreetype --enable-libfribidi --enable-libharfbuzz --enable-libvidstab --enable-libvmaf --enable-libzimg --enable-amf --enable-cuda-llvm --enable-cuvid --enable-dxva2 --enable-d3d11va --enable-d3d12va --enable-ffnvcodec --enable-libvpl --enable-nvdec --enable-nvenc --enable-vaapi --enable-libgme --enable-libopenmpt --enable-libopencore-amrwb --enable-libmp3lame --enable-libtheora --enable-libvo-amrwbenc --enable-libgsm --enable-libopencore-amrnb --enable-libopus --enable-libspeex --enable-libvorbis --enable-librubberband\n",
      "libavutil      59. 39.100 / 59. 39.100\n",
      "libavcodec     61. 19.101 / 61. 19.101\n",
      "libavformat    61.  7.100 / 61.  7.100\n",
      "libavdevice    61.  3.100 / 61.  3.100\n",
      "libavfilter    10.  4.100 / 10.  4.100\n",
      "libswscale      8.  3.100 /  8.  3.100\n",
      "libswresample   5.  3.100 /  5.  3.100\n",
      "libpostproc    58.  3.100 / 58.  3.100\n"
     ]
    }
   ],
   "source": [
    "!ffmpeg -version"
   ]
  },
  {
   "cell_type": "code",
   "execution_count": 1,
   "id": "a15ea051",
   "metadata": {},
   "outputs": [
    {
     "name": "stdout",
     "output_type": "stream",
     "text": [
      "2.7.0+cpu\n",
      "tensor([1, 2, 3])\n"
     ]
    }
   ],
   "source": [
    "import torch\n",
    "print(torch.__version__)\n",
    "print(torch.tensor([1, 2, 3]))\n"
   ]
  },
  {
   "cell_type": "code",
   "execution_count": 1,
   "id": "b3fcd6ab",
   "metadata": {},
   "outputs": [
    {
     "name": "stdout",
     "output_type": "stream",
     "text": [
      "4\n"
     ]
    }
   ],
   "source": [
    "print(4)"
   ]
  },
  {
   "cell_type": "code",
   "execution_count": 4,
   "id": "5cf7000e",
   "metadata": {},
   "outputs": [],
   "source": [
    "import pandas as pd\n",
    "\n",
    "# Load the CSV\n",
    "df = pd.read_csv('transcript_test.csv')\n",
    "\n",
    "# Keep only rows where 'transcript' is null or empty\n",
    "filtered_df = df[df['transcript'].isna() | (df['transcript'].str.strip() == '')]\n",
    "\n",
    "# Save the cleaned CSV\n",
    "filtered_df.to_csv('filtered_test.csv', index=False)\n"
   ]
  },
  {
   "cell_type": "code",
   "execution_count": null,
   "id": "1c68c20a",
   "metadata": {},
   "outputs": [],
   "source": []
  },
  {
   "cell_type": "code",
   "execution_count": 5,
   "id": "d6262207",
   "metadata": {
    "scrolled": false
   },
   "outputs": [
    {
     "name": "stdout",
     "output_type": "stream",
     "text": [
      "Transcribing: audio_822.wav\n",
      "Transcribing: audio_988.wav\n",
      "Transcribing: audio_1180.wav\n",
      "Transcribing: audio_339.wav\n",
      "Transcribing: audio_590.wav\n",
      "Transcribing: audio_57.wav\n",
      "Transcribing: audio_749.wav\n",
      "✅ Transcriptions saved to transcript_null.csv\n"
     ]
    }
   ],
   "source": [
    "from faster_whisper import WhisperModel\n",
    "import pandas as pd\n",
    "import os\n",
    "import csv\n",
    "\n",
    "def transcribe_files(audio_folder, file_list_csv, output_csv, model_size=\"base\", device=\"cpu\"):\n",
    "    model = WhisperModel(model_size, device=device)\n",
    "\n",
    "    df = pd.read_csv(file_list_csv)  # expects a 'filename' column\n",
    "    results = []\n",
    "\n",
    "    for filename in df['filename']:\n",
    "        audio_path = os.path.join(audio_folder, filename)\n",
    "        print(f\"Transcribing: {filename}\")\n",
    "        try:\n",
    "            segments, _ = model.transcribe(audio_path)\n",
    "            full_text = \" \".join([segment.text for segment in segments])\n",
    "            results.append([filename, full_text])\n",
    "        except Exception as e:\n",
    "            print(f\"Error with {filename}: {e}\")\n",
    "            results.append([filename, \"ERROR\"])\n",
    "\n",
    "    # Save transcripts\n",
    "    with open(output_csv, mode='w', newline='', encoding='utf-8') as f:\n",
    "        writer = csv.writer(f)\n",
    "        writer.writerow([\"filename\", \"transcript\"])\n",
    "        writer.writerows(results)\n",
    "\n",
    "    print(f\"✅ Transcriptions saved to {output_csv}\")\n",
    "\n",
    "# Transcribe train and test\n",
    "transcribe_files(r\"audio_path\", \"test.csv\", \"transcript_test.csv\")\n",
    "transcribe_files(r\"audio_path\", \"train.csv\", \"transcript_train.csv\")"
   ]
  },
  {
   "cell_type": "code",
   "execution_count": null,
   "id": "0609aaca",
   "metadata": {},
   "outputs": [],
   "source": []
  },
  {
   "cell_type": "code",
   "execution_count": null,
   "id": "950ce676",
   "metadata": {},
   "outputs": [],
   "source": []
  },
  {
   "cell_type": "code",
   "execution_count": null,
   "id": "370425f4",
   "metadata": {},
   "outputs": [],
   "source": []
  },
  {
   "cell_type": "code",
   "execution_count": null,
   "id": "652b297d",
   "metadata": {},
   "outputs": [],
   "source": []
  },
  {
   "cell_type": "code",
   "execution_count": null,
   "id": "87105ce2",
   "metadata": {},
   "outputs": [],
   "source": []
  }
 ],
 "metadata": {
  "kernelspec": {
   "display_name": "Python 3 (ipykernel)",
   "language": "python",
   "name": "python3"
  },
  "language_info": {
   "codemirror_mode": {
    "name": "ipython",
    "version": 3
   },
   "file_extension": ".py",
   "mimetype": "text/x-python",
   "name": "python",
   "nbconvert_exporter": "python",
   "pygments_lexer": "ipython3",
   "version": "3.9.12"
  }
 },
 "nbformat": 4,
 "nbformat_minor": 5
}
